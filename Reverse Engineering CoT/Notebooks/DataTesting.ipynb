{
 "cells": [
  {
   "cell_type": "code",
   "execution_count": 1,
   "metadata": {
    "collapsed": true,
    "ExecuteTime": {
     "end_time": "2023-05-23T04:04:57.049257100Z",
     "start_time": "2023-05-23T04:04:56.212717100Z"
    }
   },
   "outputs": [],
   "source": [
    "import pandas as pd\n",
    "\n",
    "df = pd.read_csv(\"../data/finance_full.csv\")"
   ]
  },
  {
   "cell_type": "code",
   "execution_count": 3,
   "outputs": [
    {
     "data": {
      "text/plain": "   Unnamed: 0     id                                           question  \\\n0       49701  19143  Historical P/E ratios of small-cap vs. large-c...   \n1       49702  19143  Historical P/E ratios of small-cap vs. large-c...   \n2       49703  19144  Should you co-sign a personal loan for a frien...   \n3       49704  19144  Should you co-sign a personal loan for a frien...   \n4       49705  19145  Should I avoid credit card use to improve our ...   \n\n                                              answer  label   source  \n0  There is most likely an error in the WSJ's dat...      0  finance  \n1  Historical price-to-earnings (P/E) ratios for ...      1  finance  \n2  I know this question has a lot of answers alre...      0  finance  \n3  Co-signing a personal loan for a friend or fam...      1  finance  \n4  If you pay it off before the cycle closes it w...      0  finance  ",
      "text/html": "<div>\n<style scoped>\n    .dataframe tbody tr th:only-of-type {\n        vertical-align: middle;\n    }\n\n    .dataframe tbody tr th {\n        vertical-align: top;\n    }\n\n    .dataframe thead th {\n        text-align: right;\n    }\n</style>\n<table border=\"1\" class=\"dataframe\">\n  <thead>\n    <tr style=\"text-align: right;\">\n      <th></th>\n      <th>Unnamed: 0</th>\n      <th>id</th>\n      <th>question</th>\n      <th>answer</th>\n      <th>label</th>\n      <th>source</th>\n    </tr>\n  </thead>\n  <tbody>\n    <tr>\n      <th>0</th>\n      <td>49701</td>\n      <td>19143</td>\n      <td>Historical P/E ratios of small-cap vs. large-c...</td>\n      <td>There is most likely an error in the WSJ's dat...</td>\n      <td>0</td>\n      <td>finance</td>\n    </tr>\n    <tr>\n      <th>1</th>\n      <td>49702</td>\n      <td>19143</td>\n      <td>Historical P/E ratios of small-cap vs. large-c...</td>\n      <td>Historical price-to-earnings (P/E) ratios for ...</td>\n      <td>1</td>\n      <td>finance</td>\n    </tr>\n    <tr>\n      <th>2</th>\n      <td>49703</td>\n      <td>19144</td>\n      <td>Should you co-sign a personal loan for a frien...</td>\n      <td>I know this question has a lot of answers alre...</td>\n      <td>0</td>\n      <td>finance</td>\n    </tr>\n    <tr>\n      <th>3</th>\n      <td>49704</td>\n      <td>19144</td>\n      <td>Should you co-sign a personal loan for a frien...</td>\n      <td>Co-signing a personal loan for a friend or fam...</td>\n      <td>1</td>\n      <td>finance</td>\n    </tr>\n    <tr>\n      <th>4</th>\n      <td>49705</td>\n      <td>19145</td>\n      <td>Should I avoid credit card use to improve our ...</td>\n      <td>If you pay it off before the cycle closes it w...</td>\n      <td>0</td>\n      <td>finance</td>\n    </tr>\n  </tbody>\n</table>\n</div>"
     },
     "execution_count": 3,
     "metadata": {},
     "output_type": "execute_result"
    }
   ],
   "source": [
    "df.head()"
   ],
   "metadata": {
    "collapsed": false,
    "ExecuteTime": {
     "end_time": "2023-05-23T04:06:04.532462200Z",
     "start_time": "2023-05-23T04:06:04.497411300Z"
    }
   }
  },
  {
   "cell_type": "code",
   "execution_count": null,
   "outputs": [],
   "source": [],
   "metadata": {
    "collapsed": false
   }
  }
 ],
 "metadata": {
  "kernelspec": {
   "display_name": "Python 3",
   "language": "python",
   "name": "python3"
  },
  "language_info": {
   "codemirror_mode": {
    "name": "ipython",
    "version": 2
   },
   "file_extension": ".py",
   "mimetype": "text/x-python",
   "name": "python",
   "nbconvert_exporter": "python",
   "pygments_lexer": "ipython2",
   "version": "2.7.6"
  }
 },
 "nbformat": 4,
 "nbformat_minor": 0
}
