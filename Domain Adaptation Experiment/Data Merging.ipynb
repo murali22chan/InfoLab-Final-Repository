{
 "cells": [
  {
   "cell_type": "code",
   "execution_count": 1,
   "metadata": {
    "ExecuteTime": {
     "end_time": "2023-06-14T22:00:16.604897Z",
     "start_time": "2023-06-14T22:00:16.573050800Z"
    }
   },
   "outputs": [],
   "source": [
    "import pandas as pd\n",
    "\n",
    "domains = [\"finance\", \"medicine\", \"wiki_csai\", \"open_qa\", \"reddit_eli5\"]\n",
    "\n",
    "import random\n",
    "\n",
    "\n",
    "merged_data = pd.DataFrame()\n",
    "\n",
    "for domain in domains:\n",
    "    csv_file = f\"{domain}_full.csv\"\n",
    "    df = pd.read_csv(csv_file)\n",
    "    merged_data = pd.concat([merged_data, df])\n",
    "\n",
    "merged_data = merged_data.sample(frac=1).reset_index(drop=True)  # Shuffle the data\n",
    "merged_data.to_csv(\"data_full.csv\", index=False)\n"
   ]
  },
  {
   "cell_type": "code",
   "execution_count": 2,
   "metadata": {},
   "outputs": [],
   "source": [
    "data = pd.read_csv(\"data_full.csv\")"
   ]
  },
  {
   "cell_type": "code",
   "execution_count": 3,
   "metadata": {},
   "outputs": [
    {
     "data": {
      "text/html": [
       "<div>\n",
       "<style scoped>\n",
       "    .dataframe tbody tr th:only-of-type {\n",
       "        vertical-align: middle;\n",
       "    }\n",
       "\n",
       "    .dataframe tbody tr th {\n",
       "        vertical-align: top;\n",
       "    }\n",
       "\n",
       "    .dataframe thead th {\n",
       "        text-align: right;\n",
       "    }\n",
       "</style>\n",
       "<table border=\"1\" class=\"dataframe\">\n",
       "  <thead>\n",
       "    <tr style=\"text-align: right;\">\n",
       "      <th></th>\n",
       "      <th>Unnamed: 0</th>\n",
       "      <th>id</th>\n",
       "      <th>question</th>\n",
       "      <th>answer</th>\n",
       "      <th>label</th>\n",
       "      <th>source</th>\n",
       "    </tr>\n",
       "  </thead>\n",
       "  <tbody>\n",
       "    <tr>\n",
       "      <th>0</th>\n",
       "      <td>21241</td>\n",
       "      <td>7748</td>\n",
       "      <td>Why does a submarine not have upthrust pushing...</td>\n",
       "      <td>A submarine doesn't float to the surface of th...</td>\n",
       "      <td>1</td>\n",
       "      <td>reddit_eli5</td>\n",
       "    </tr>\n",
       "    <tr>\n",
       "      <th>1</th>\n",
       "      <td>908</td>\n",
       "      <td>868</td>\n",
       "      <td>On gas stoves that say lit , what keeps the fl...</td>\n",
       "      <td>Because gas needs a fairly specific ratio of a...</td>\n",
       "      <td>0</td>\n",
       "      <td>reddit_eli5</td>\n",
       "    </tr>\n",
       "    <tr>\n",
       "      <th>2</th>\n",
       "      <td>38573</td>\n",
       "      <td>14640</td>\n",
       "      <td>Why does n't minimum wage grow to match inflat...</td>\n",
       "      <td>Legislation takes time . Inflation is fluctuat...</td>\n",
       "      <td>0</td>\n",
       "      <td>reddit_eli5</td>\n",
       "    </tr>\n",
       "    <tr>\n",
       "      <th>3</th>\n",
       "      <td>35488</td>\n",
       "      <td>13521</td>\n",
       "      <td>Why are burn marks more distinct than regular ...</td>\n",
       "      <td>Burn marks are more distinct than regular scar...</td>\n",
       "      <td>1</td>\n",
       "      <td>reddit_eli5</td>\n",
       "    </tr>\n",
       "    <tr>\n",
       "      <th>4</th>\n",
       "      <td>5539</td>\n",
       "      <td>4775</td>\n",
       "      <td>The meaning of Auld Lang Syne I read the wiki ...</td>\n",
       "      <td>\"Auld Lang Syne\" is a song about saying goodby...</td>\n",
       "      <td>1</td>\n",
       "      <td>reddit_eli5</td>\n",
       "    </tr>\n",
       "  </tbody>\n",
       "</table>\n",
       "</div>"
      ],
      "text/plain": [
       "   Unnamed: 0     id                                           question  \\\n",
       "0       21241   7748  Why does a submarine not have upthrust pushing...   \n",
       "1         908    868  On gas stoves that say lit , what keeps the fl...   \n",
       "2       38573  14640  Why does n't minimum wage grow to match inflat...   \n",
       "3       35488  13521  Why are burn marks more distinct than regular ...   \n",
       "4        5539   4775  The meaning of Auld Lang Syne I read the wiki ...   \n",
       "\n",
       "                                              answer  label       source  \n",
       "0  A submarine doesn't float to the surface of th...      1  reddit_eli5  \n",
       "1  Because gas needs a fairly specific ratio of a...      0  reddit_eli5  \n",
       "2  Legislation takes time . Inflation is fluctuat...      0  reddit_eli5  \n",
       "3  Burn marks are more distinct than regular scar...      1  reddit_eli5  \n",
       "4  \"Auld Lang Syne\" is a song about saying goodby...      1  reddit_eli5  "
      ]
     },
     "execution_count": 3,
     "metadata": {},
     "output_type": "execute_result"
    }
   ],
   "source": [
    "data.head()"
   ]
  },
  {
   "cell_type": "code",
   "execution_count": 4,
   "metadata": {},
   "outputs": [
    {
     "data": {
      "text/plain": [
       "82469"
      ]
     },
     "execution_count": 4,
     "metadata": {},
     "output_type": "execute_result"
    }
   ],
   "source": [
    "len(data)"
   ]
  },
  {
   "cell_type": "code",
   "execution_count": 5,
   "metadata": {},
   "outputs": [
    {
     "data": {
      "text/plain": [
       "8246.9"
      ]
     },
     "execution_count": 5,
     "metadata": {},
     "output_type": "execute_result"
    }
   ],
   "source": [
    "0.1 * 82469\n"
   ]
  },
  {
   "cell_type": "code",
   "execution_count": null,
   "metadata": {},
   "outputs": [],
   "source": []
  }
 ],
 "metadata": {
  "kernelspec": {
   "display_name": "Python 3 (ipykernel)",
   "language": "python",
   "name": "python3"
  },
  "language_info": {
   "codemirror_mode": {
    "name": "ipython",
    "version": 3
   },
   "file_extension": ".py",
   "mimetype": "text/x-python",
   "name": "python",
   "nbconvert_exporter": "python",
   "pygments_lexer": "ipython3",
   "version": "3.9.16"
  }
 },
 "nbformat": 4,
 "nbformat_minor": 1
}
