{
 "cells": [
  {
   "cell_type": "code",
   "execution_count": 1,
   "id": "00a658a0",
   "metadata": {},
   "outputs": [],
   "source": [
    "import pandas as pd"
   ]
  },
  {
   "cell_type": "code",
   "execution_count": 2,
   "id": "e9bacfef",
   "metadata": {},
   "outputs": [],
   "source": [
    "df = pd.read_csv(\"Full_Data_With_Perturbed_text.csv\")"
   ]
  },
  {
   "cell_type": "code",
   "execution_count": 3,
   "id": "97469d68",
   "metadata": {},
   "outputs": [
    {
     "data": {
      "text/html": [
       "<div>\n",
       "<style scoped>\n",
       "    .dataframe tbody tr th:only-of-type {\n",
       "        vertical-align: middle;\n",
       "    }\n",
       "\n",
       "    .dataframe tbody tr th {\n",
       "        vertical-align: top;\n",
       "    }\n",
       "\n",
       "    .dataframe thead th {\n",
       "        text-align: right;\n",
       "    }\n",
       "</style>\n",
       "<table border=\"1\" class=\"dataframe\">\n",
       "  <thead>\n",
       "    <tr style=\"text-align: right;\">\n",
       "      <th></th>\n",
       "      <th>Question</th>\n",
       "      <th>Text</th>\n",
       "      <th>LabelName</th>\n",
       "      <th>Label</th>\n",
       "      <th>Perturbed Text</th>\n",
       "    </tr>\n",
       "  </thead>\n",
       "  <tbody>\n",
       "    <tr>\n",
       "      <th>0</th>\n",
       "      <td>Why is every book I hear about a \" NY Times # ...</td>\n",
       "      <td>Basically there are many categories of \" Best ...</td>\n",
       "      <td>Human Answer</td>\n",
       "      <td>0</td>\n",
       "      <td>Basically there are many categories of \" Best ...</td>\n",
       "    </tr>\n",
       "    <tr>\n",
       "      <th>1</th>\n",
       "      <td>Why is every book I hear about a \" NY Times # ...</td>\n",
       "      <td>If you 're hearing about it , it 's because it...</td>\n",
       "      <td>Human Answer</td>\n",
       "      <td>0</td>\n",
       "      <td>If you 're hearing about it , this 's because ...</td>\n",
       "    </tr>\n",
       "    <tr>\n",
       "      <th>2</th>\n",
       "      <td>Why is every book I hear about a \" NY Times # ...</td>\n",
       "      <td>One reason is lots of catagories . However , h...</td>\n",
       "      <td>Human Answer</td>\n",
       "      <td>0</td>\n",
       "      <td>book list ). There are a variety of catagories...</td>\n",
       "    </tr>\n",
       "    <tr>\n",
       "      <th>3</th>\n",
       "      <td>Why is every book I hear about a \" NY Times # ...</td>\n",
       "      <td>There are many different best seller lists tha...</td>\n",
       "      <td>ChatGPT Answer</td>\n",
       "      <td>1</td>\n",
       "      <td>list list, there are many different best selle...</td>\n",
       "    </tr>\n",
       "    <tr>\n",
       "      <th>4</th>\n",
       "      <td>If salt is so bad for cars , why do we use it ...</td>\n",
       "      <td>salt is good for not dying in car crashes and ...</td>\n",
       "      <td>Human Answer</td>\n",
       "      <td>0</td>\n",
       "      <td>salt is good for not dying in car crashes and ...</td>\n",
       "    </tr>\n",
       "  </tbody>\n",
       "</table>\n",
       "</div>"
      ],
      "text/plain": [
       "                                            Question  \\\n",
       "0  Why is every book I hear about a \" NY Times # ...   \n",
       "1  Why is every book I hear about a \" NY Times # ...   \n",
       "2  Why is every book I hear about a \" NY Times # ...   \n",
       "3  Why is every book I hear about a \" NY Times # ...   \n",
       "4  If salt is so bad for cars , why do we use it ...   \n",
       "\n",
       "                                                Text       LabelName  Label  \\\n",
       "0  Basically there are many categories of \" Best ...    Human Answer      0   \n",
       "1  If you 're hearing about it , it 's because it...    Human Answer      0   \n",
       "2  One reason is lots of catagories . However , h...    Human Answer      0   \n",
       "3  There are many different best seller lists tha...  ChatGPT Answer      1   \n",
       "4  salt is good for not dying in car crashes and ...    Human Answer      0   \n",
       "\n",
       "                                      Perturbed Text  \n",
       "0  Basically there are many categories of \" Best ...  \n",
       "1  If you 're hearing about it , this 's because ...  \n",
       "2  book list ). There are a variety of catagories...  \n",
       "3  list list, there are many different best selle...  \n",
       "4  salt is good for not dying in car crashes and ...  "
      ]
     },
     "execution_count": 3,
     "metadata": {},
     "output_type": "execute_result"
    }
   ],
   "source": [
    "df.head()"
   ]
  },
  {
   "cell_type": "code",
   "execution_count": 4,
   "id": "587d3907",
   "metadata": {},
   "outputs": [
    {
     "data": {
      "text/plain": [
       "796"
      ]
     },
     "execution_count": 4,
     "metadata": {},
     "output_type": "execute_result"
    }
   ],
   "source": [
    "len(df)"
   ]
  },
  {
   "cell_type": "code",
   "execution_count": 5,
   "id": "9d26f263",
   "metadata": {},
   "outputs": [],
   "source": [
    "df = df[df['Perturbed Text'].notna()] #Dropping Text Sequence With Length less than 512"
   ]
  },
  {
   "cell_type": "code",
   "execution_count": 6,
   "id": "2adf54b3",
   "metadata": {},
   "outputs": [
    {
     "data": {
      "text/plain": [
       "765"
      ]
     },
     "execution_count": 6,
     "metadata": {},
     "output_type": "execute_result"
    }
   ],
   "source": [
    "len(df) #Available Samples for Training and Testing"
   ]
  },
  {
   "cell_type": "code",
   "execution_count": 7,
   "id": "c107626e",
   "metadata": {},
   "outputs": [
    {
     "data": {
      "text/plain": [
       "199"
      ]
     },
     "execution_count": 7,
     "metadata": {},
     "output_type": "execute_result"
    }
   ],
   "source": [
    "sum(df['Label'])"
   ]
  },
  {
   "cell_type": "markdown",
   "id": "8b619f2d",
   "metadata": {},
   "source": [
    "------------------------------------------------------------------------------------------------------------------------------"
   ]
  },
  {
   "cell_type": "code",
   "execution_count": null,
   "id": "c08416d7",
   "metadata": {},
   "outputs": [],
   "source": [
    "# Similarity Function\n",
    "\n",
    "def similarity_function()"
   ]
  }
 ],
 "metadata": {
  "kernelspec": {
   "display_name": "Python 3 (ipykernel)",
   "language": "python",
   "name": "python3"
  },
  "language_info": {
   "codemirror_mode": {
    "name": "ipython",
    "version": 3
   },
   "file_extension": ".py",
   "mimetype": "text/x-python",
   "name": "python",
   "nbconvert_exporter": "python",
   "pygments_lexer": "ipython3",
   "version": "3.9.13"
  }
 },
 "nbformat": 4,
 "nbformat_minor": 5
}
